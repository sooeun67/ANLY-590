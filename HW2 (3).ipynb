{
  "nbformat": 4,
  "nbformat_minor": 0,
  "metadata": {
    "colab": {
      "name": "HW2.ipynb",
      "version": "0.3.2",
      "provenance": [],
      "collapsed_sections": []
    },
    "kernelspec": {
      "name": "python3",
      "display_name": "Python 3"
    },
    "accelerator": "GPU"
  },
  "cells": [
    {
      "metadata": {
        "id": "_zWklasCs10R",
        "colab_type": "text"
      },
      "cell_type": "markdown",
      "source": [
        "# **HW 2**\n",
        "\n",
        "## **Problem 1**"
      ]
    },
    {
      "metadata": {
        "id": "IzhVvRifM_wQ",
        "colab_type": "text"
      },
      "cell_type": "markdown",
      "source": [
        "### ***Simple Autoencoder***"
      ]
    },
    {
      "metadata": {
        "id": "ByHayeawy2oJ",
        "colab_type": "text"
      },
      "cell_type": "markdown",
      "source": [
        "Before diving into a convolutional autoencoder, we are going to start with a simple, single fully-connected neural layer as encoder & decoder.\n",
        "\n"
      ]
    },
    {
      "metadata": {
        "id": "Dgn2RXqTs4UR",
        "colab_type": "code",
        "colab": {}
      },
      "cell_type": "code",
      "source": [
        "from keras.layers import Input, Dense\n",
        "from keras.models import Model\n",
        "import numpy as np\n",
        "\n",
        "# size of bottleneck latent space / size of our encoded representations\n",
        "encoding_dim = 32                     # 32 floats -> compression of factor 24.5, assuming the input is 784 floats\n",
        "# input placeholder\n",
        "input_img = Input(shape=(784,))\n",
        "# encoded representation\n",
        "# \"encoded\" is the encoded representation of the input\n",
        "encoded = Dense(encoding_dim, activation='relu')(input_img)\n",
        "# lossy reconstruction\n",
        "# # \"decoded\" is the lossy reconstruction of the input\n",
        "decoded = Dense(784, activation='sigmoid')(encoded)\n",
        "\n",
        "# full AE model: this model maps an input to its reconstruction\n",
        "autoencoder = Model(input_img, decoded)\n"
      ],
      "execution_count": 0,
      "outputs": []
    },
    {
      "metadata": {
        "id": "hUGDhxF0tE_g",
        "colab_type": "text"
      },
      "cell_type": "markdown",
      "source": [
        "Then, we are going to create separate encoding and decoding functions."
      ]
    },
    {
      "metadata": {
        "id": "L2yPqsLstEiZ",
        "colab_type": "code",
        "colab": {}
      },
      "cell_type": "code",
      "source": [
        "# encoder: map an input to its encoded representation\n",
        "encoder = Model(input_img, encoded)\n",
        "# placeholder for an encoded(32-dimensional) input\n",
        "encoded_input = Input(shape=(encoding_dim,))\n",
        "# last layer of the autoencoder model\n",
        "decoder_layer = autoencoder.layers[-1]\n",
        "# create a decoder model\n",
        "decoder = Model(encoded_input, decoder_layer(encoded_input))"
      ],
      "execution_count": 0,
      "outputs": []
    },
    {
      "metadata": {
        "id": "0tCJGCzltZDc",
        "colab_type": "text"
      },
      "cell_type": "markdown",
      "source": [
        "We can now set the optimizer and the loss function before training the autoencoder model, by using a binary crossentropy loss and the Adadelta optimizer."
      ]
    },
    {
      "metadata": {
        "id": "bo_SzquxtqKA",
        "colab_type": "code",
        "colab": {}
      },
      "cell_type": "code",
      "source": [
        "autoencoder.compile(optimizer='adadelta', loss='binary_crossentropy')"
      ],
      "execution_count": 0,
      "outputs": []
    },
    {
      "metadata": {
        "id": "RjYoJCi7ze9S",
        "colab_type": "text"
      },
      "cell_type": "markdown",
      "source": [
        "Then, we are going to prepare our input data. We're using MNIST digits, and discarding the labels (since we're only interested in encoding/decoding the input images). \n",
        "\n",
        "Then, we need to normalize it for training (all values between 0 and 1), and flatten the 28 X 28 images into vectors of size of 784."
      ]
    },
    {
      "metadata": {
        "id": "-ZCocS-qz1YK",
        "colab_type": "code",
        "colab": {
          "base_uri": "https://localhost:8080/",
          "height": 50
        },
        "outputId": "9063a314-e312-4d6d-ade8-4242efa60e7c"
      },
      "cell_type": "code",
      "source": [
        "from keras.datasets import mnist\n",
        "import tensorflow as tf\n",
        "import numpy as np\n",
        "(x_train, _), (x_test, _) = tf.keras.datasets.fashion_mnist.load_data()\n",
        "#(x_train, y_train), (x_test, y_test) = tf.keras.datasets.fashion_mnist.load_data()\n",
        "\n",
        "x_train = x_train.astype('float32') / 255.\n",
        "x_test = x_test.astype('float32') / 255.\n",
        "x_train = x_train.reshape((len(x_train), np.prod(x_train.shape[1:])))\n",
        "x_test = x_test.reshape((len(x_test), np.prod(x_test.shape[1:])))\n",
        "print(x_train.shape)\n",
        "print(x_test.shape)"
      ],
      "execution_count": 89,
      "outputs": [
        {
          "output_type": "stream",
          "text": [
            "(60000, 784)\n",
            "(10000, 784)\n"
          ],
          "name": "stdout"
        }
      ]
    },
    {
      "metadata": {
        "id": "ZzePh3su0W64",
        "colab_type": "text"
      },
      "cell_type": "markdown",
      "source": [
        "* The shape of training and test are (60000,784) and (10000, 784) respectively."
      ]
    },
    {
      "metadata": {
        "id": "k-FgxnE_0ewT",
        "colab_type": "text"
      },
      "cell_type": "markdown",
      "source": [
        "Now, we are going to train for 10 epochs."
      ]
    },
    {
      "metadata": {
        "id": "z5_g8zk_35Gv",
        "colab_type": "text"
      },
      "cell_type": "markdown",
      "source": [
        "Save it to a variable \"history\" so that we can print the loss "
      ]
    },
    {
      "metadata": {
        "id": "PwcgYwd73_xU",
        "colab_type": "code",
        "colab": {
          "base_uri": "https://localhost:8080/",
          "height": 1042
        },
        "outputId": "fd3641ea-1dc8-474f-cd27-a3cf66622e01"
      },
      "cell_type": "code",
      "source": [
        "history = autoencoder.fit(x_train, x_train,\n",
        "                epochs=30,\n",
        "                batch_size=256,\n",
        "                shuffle=True,\n",
        "                validation_data=(x_test, x_test))"
      ],
      "execution_count": 90,
      "outputs": [
        {
          "output_type": "stream",
          "text": [
            "Train on 60000 samples, validate on 10000 samples\n",
            "Epoch 1/30\n",
            "60000/60000 [==============================] - 2s 41us/step - loss: 0.5324 - val_loss: 0.4615\n",
            "Epoch 2/30\n",
            "60000/60000 [==============================] - 2s 26us/step - loss: 0.4278 - val_loss: 0.4078\n",
            "Epoch 3/30\n",
            "60000/60000 [==============================] - 2s 27us/step - loss: 0.3976 - val_loss: 0.3907\n",
            "Epoch 4/30\n",
            "60000/60000 [==============================] - 2s 26us/step - loss: 0.3814 - val_loss: 0.3753\n",
            "Epoch 5/30\n",
            "60000/60000 [==============================] - 2s 27us/step - loss: 0.3667 - val_loss: 0.3618\n",
            "Epoch 6/30\n",
            "60000/60000 [==============================] - 2s 27us/step - loss: 0.3541 - val_loss: 0.3505\n",
            "Epoch 7/30\n",
            "60000/60000 [==============================] - 2s 26us/step - loss: 0.3441 - val_loss: 0.3418\n",
            "Epoch 8/30\n",
            "60000/60000 [==============================] - 2s 26us/step - loss: 0.3366 - val_loss: 0.3355\n",
            "Epoch 9/30\n",
            "60000/60000 [==============================] - 2s 26us/step - loss: 0.3310 - val_loss: 0.3306\n",
            "Epoch 10/30\n",
            "60000/60000 [==============================] - 2s 27us/step - loss: 0.3267 - val_loss: 0.3268\n",
            "Epoch 11/30\n",
            "60000/60000 [==============================] - 2s 26us/step - loss: 0.3232 - val_loss: 0.3236\n",
            "Epoch 12/30\n",
            "60000/60000 [==============================] - 2s 27us/step - loss: 0.3203 - val_loss: 0.3210\n",
            "Epoch 13/30\n",
            "60000/60000 [==============================] - 2s 26us/step - loss: 0.3178 - val_loss: 0.3187\n",
            "Epoch 14/30\n",
            "60000/60000 [==============================] - 2s 26us/step - loss: 0.3158 - val_loss: 0.3169\n",
            "Epoch 15/30\n",
            "60000/60000 [==============================] - 2s 27us/step - loss: 0.3140 - val_loss: 0.3152\n",
            "Epoch 16/30\n",
            "60000/60000 [==============================] - 2s 26us/step - loss: 0.3125 - val_loss: 0.3138\n",
            "Epoch 17/30\n",
            "60000/60000 [==============================] - 2s 26us/step - loss: 0.3112 - val_loss: 0.3126\n",
            "Epoch 18/30\n",
            "60000/60000 [==============================] - 2s 27us/step - loss: 0.3100 - val_loss: 0.3115\n",
            "Epoch 19/30\n",
            "60000/60000 [==============================] - 2s 27us/step - loss: 0.3090 - val_loss: 0.3106\n",
            "Epoch 20/30\n",
            "60000/60000 [==============================] - 2s 27us/step - loss: 0.3081 - val_loss: 0.3096\n",
            "Epoch 21/30\n",
            "60000/60000 [==============================] - 2s 27us/step - loss: 0.3072 - val_loss: 0.3088\n",
            "Epoch 22/30\n",
            "60000/60000 [==============================] - 2s 26us/step - loss: 0.3064 - val_loss: 0.3081\n",
            "Epoch 23/30\n",
            "60000/60000 [==============================] - 2s 27us/step - loss: 0.3057 - val_loss: 0.3073\n",
            "Epoch 24/30\n",
            "60000/60000 [==============================] - 2s 29us/step - loss: 0.3050 - val_loss: 0.3066\n",
            "Epoch 25/30\n",
            "60000/60000 [==============================] - 2s 27us/step - loss: 0.3043 - val_loss: 0.3060\n",
            "Epoch 26/30\n",
            "60000/60000 [==============================] - 2s 26us/step - loss: 0.3037 - val_loss: 0.3054\n",
            "Epoch 27/30\n",
            "60000/60000 [==============================] - 2s 26us/step - loss: 0.3031 - val_loss: 0.3048\n",
            "Epoch 28/30\n",
            "60000/60000 [==============================] - 2s 27us/step - loss: 0.3025 - val_loss: 0.3043\n",
            "Epoch 29/30\n",
            "60000/60000 [==============================] - 2s 27us/step - loss: 0.3019 - val_loss: 0.3037\n",
            "Epoch 30/30\n",
            "60000/60000 [==============================] - 2s 27us/step - loss: 0.3014 - val_loss: 0.3032\n"
          ],
          "name": "stdout"
        }
      ]
    },
    {
      "metadata": {
        "id": "rStAeJJA4i19",
        "colab_type": "code",
        "colab": {
          "base_uri": "https://localhost:8080/",
          "height": 294
        },
        "outputId": "d3810a10-42f9-4dba-e07b-d422c99f3cda"
      },
      "cell_type": "code",
      "source": [
        "import matplotlib.pyplot as plt\n",
        "%matplotlib inline\n",
        "\n",
        "def plot_train_history_loss(history):\n",
        "    # summarize history for loss\n",
        "    plt.plot(history.history['loss'])\n",
        "    plt.plot(history.history['val_loss'])\n",
        "    plt.title('model loss')\n",
        "    plt.ylabel('loss')\n",
        "    plt.xlabel('epoch')\n",
        "    plt.legend(['train', 'test'], loc='upper right')\n",
        "    plt.show()\n",
        "\n",
        "plot_train_history_loss(history)"
      ],
      "execution_count": 91,
      "outputs": [
        {
          "output_type": "display_data",
          "data": {
            "image/png": "[encoded data removed]",
            "text/plain": [
              "<matplotlib.figure.Figure at 0x7f2b66912f98>"
            ]
          },
          "metadata": {
            "tags": []
          }
        }
      ]
    },
    {
      "metadata": {
        "id": "gV2MeyHj4iXU",
        "colab_type": "text"
      },
      "cell_type": "markdown",
      "source": [
        "After 10 epochs, the auto-encoder reaches a stable train/text loss value of about 0.282. Now, we are going to see how the reconstruction of the model works with visuals(images) by comparing with the original images."
      ]
    },
    {
      "metadata": {
        "id": "AAdWBGhDO-o9",
        "colab_type": "code",
        "colab": {
          "base_uri": "https://localhost:8080/",
          "height": 244
        },
        "outputId": "0fa74ee3-c70e-4ab8-d7ce-d17d5002514d"
      },
      "cell_type": "code",
      "source": [
        "# encode and decode some images from test set\n",
        "encoded_imgs = encoder.predict(x_test)\n",
        "decoded_imgs = decoder.predict(encoded_imgs)\n",
        "\n",
        "def display_reconstructed(x_test, decoded_imgs, n=10):\n",
        "    plt.figure(figsize=(20, 4))\n",
        "    for i in range(n):\n",
        "        # display original\n",
        "        ax = plt.subplot(2, n, i + 1)\n",
        "        plt.imshow(x_test[i].reshape(28, 28))\n",
        "        plt.gray()\n",
        "        ax.get_xaxis().set_visible(False)\n",
        "        ax.get_yaxis().set_visible(False)\n",
        "\n",
        "        if decoded_imgs is not None:\n",
        "            # display reconstruction\n",
        "            ax = plt.subplot(2, n, i + 1 + n)\n",
        "            plt.imshow(decoded_imgs[i].reshape(28, 28))\n",
        "            plt.gray()\n",
        "            ax.get_xaxis().set_visible(False)\n",
        "            ax.get_yaxis().set_visible(False)\n",
        "    plt.show()\n",
        "\n",
        "display_reconstructed(x_test, decoded_imgs, 10)"
      ],
      "execution_count": 92,
      "outputs": [
        {
          "output_type": "display_data",
          "data": {
            "image/png": "[encoded data removed]",
            "text/plain": [
              "<matplotlib.figure.Figure at 0x7f2af7c79438>"
            ]
          },
          "metadata": {
            "tags": []
          }
        }
      ]
    },
    {
      "metadata": {
        "id": "Pue9zrqM-Vp9",
        "colab_type": "text"
      },
      "cell_type": "markdown",
      "source": [
        "The top row is the original image, while bottom row is the reconstructed image. We can see that we are loosing a lot of fine details."
      ]
    },
    {
      "metadata": {
        "id": "JU_VztCX8WAu",
        "colab_type": "text"
      },
      "cell_type": "markdown",
      "source": [
        "### *Convolutional Autoencoder*"
      ]
    },
    {
      "metadata": {
        "id": "oDMxIrFH8T7D",
        "colab_type": "text"
      },
      "cell_type": "markdown",
      "source": [
        "The encoder will consist in a stack of Conv2D and MaxPooling2D layers (max pooling being used for spatial down-sampling), while the decoder will consist in a stack of Conv2D and UpSampling2D layers.\n"
      ]
    },
    {
      "metadata": {
        "id": "Eo5EVCr48gH6",
        "colab_type": "code",
        "colab": {}
      },
      "cell_type": "code",
      "source": [
        "from keras.layers import Input, Dense, Conv2D, MaxPooling2D, UpSampling2D\n",
        "from keras.models import Model\n",
        "from keras import backend as K\n",
        "\n",
        "input_img = Input(shape=(28, 28, 1))\n",
        "\n",
        "x = Conv2D(16, (3, 3), activation='relu', padding='same')(input_img)\n",
        "x = MaxPooling2D((2, 2), padding='same')(x)\n",
        "x = Conv2D(8, (3, 3), activation='relu', padding='same')(x)\n",
        "x = MaxPooling2D((2, 2), padding='same')(x)\n",
        "x = Conv2D(8, (3, 3), activation='relu', padding='same')(x)\n",
        "encoded = MaxPooling2D((2, 2), padding='same')(x)\n",
        "\n",
        "# at this point the representation is (4, 4, 8) i.e. 128-dimensional\n",
        "\n",
        "x = Conv2D(8, (3, 3), activation='relu', padding='same')(encoded)\n",
        "x = UpSampling2D((2, 2))(x)\n",
        "x = Conv2D(8, (3, 3), activation='relu', padding='same')(x)\n",
        "x = UpSampling2D((2, 2))(x)\n",
        "x = Conv2D(16, (3, 3), activation='relu')(x)\n",
        "x = UpSampling2D((2, 2))(x)\n",
        "decoded = Conv2D(1, (3, 3), activation='sigmoid', padding='same')(x)\n",
        "\n",
        "autoencoder = Model(input_img, decoded)\n",
        "autoencoder.compile(optimizer='adadelta', loss='binary_crossentropy')"
      ],
      "execution_count": 0,
      "outputs": []
    },
    {
      "metadata": {
        "id": "8nNKezNf_Luy",
        "colab_type": "text"
      },
      "cell_type": "markdown",
      "source": [
        "To train the data, we are going to use the original Fashion MNIST digits with shap, and normalize the values between 0 and 1."
      ]
    },
    {
      "metadata": {
        "id": "wyUg-U-5_lkU",
        "colab_type": "code",
        "colab": {}
      },
      "cell_type": "code",
      "source": [
        "(x_train, _), (x_test, _) = tf.keras.datasets.fashion_mnist.load_data()\n",
        "\n",
        "x_train = x_train.astype('float32') / 255.\n",
        "x_test = x_test.astype('float32') / 255.\n",
        "x_train = np.reshape(x_train, (len(x_train), 28, 28, 1))\n",
        "x_test = np.reshape(x_test, (len(x_test), 28, 28, 1))"
      ],
      "execution_count": 0,
      "outputs": []
    },
    {
      "metadata": {
        "id": "CsJrKVk_A78G",
        "colab_type": "text"
      },
      "cell_type": "markdown",
      "source": [
        "Train the model"
      ]
    },
    {
      "metadata": {
        "id": "OKyL9TXHAHR4",
        "colab_type": "code",
        "colab": {
          "base_uri": "https://localhost:8080/",
          "height": 1058
        },
        "outputId": "1be5ecdb-4818-42aa-c6d3-d12dd6bb3f79"
      },
      "cell_type": "code",
      "source": [
        "autoencoder.fit(x_train, x_train,\n",
        "                epochs=30,\n",
        "                batch_size=256,\n",
        "                shuffle=True,\n",
        "                validation_data=(x_test, x_test))"
      ],
      "execution_count": 95,
      "outputs": [
        {
          "output_type": "stream",
          "text": [
            "Train on 60000 samples, validate on 10000 samples\n",
            "Epoch 1/30\n",
            "60000/60000 [==============================] - 6s 100us/step - loss: 0.4057 - val_loss: 0.3507\n",
            "Epoch 2/30\n",
            "60000/60000 [==============================] - 4s 72us/step - loss: 0.3428 - val_loss: 0.3438\n",
            "Epoch 3/30\n",
            "60000/60000 [==============================] - 4s 72us/step - loss: 0.3295 - val_loss: 0.3265\n",
            "Epoch 4/30\n",
            "60000/60000 [==============================] - 4s 73us/step - loss: 0.3212 - val_loss: 0.3184\n",
            "Epoch 5/30\n",
            "60000/60000 [==============================] - 4s 72us/step - loss: 0.3156 - val_loss: 0.3140\n",
            "Epoch 6/30\n",
            "60000/60000 [==============================] - 4s 73us/step - loss: 0.3117 - val_loss: 0.3096\n",
            "Epoch 7/30\n",
            "60000/60000 [==============================] - 4s 72us/step - loss: 0.3088 - val_loss: 0.3065\n",
            "Epoch 8/30\n",
            "60000/60000 [==============================] - 4s 72us/step - loss: 0.3067 - val_loss: 0.3070\n",
            "Epoch 9/30\n",
            "60000/60000 [==============================] - 4s 73us/step - loss: 0.3052 - val_loss: 0.3054\n",
            "Epoch 10/30\n",
            "60000/60000 [==============================] - 4s 73us/step - loss: 0.3038 - val_loss: 0.3044\n",
            "Epoch 11/30\n",
            "60000/60000 [==============================] - 4s 74us/step - loss: 0.3027 - val_loss: 0.3029\n",
            "Epoch 12/30\n",
            "60000/60000 [==============================] - 4s 72us/step - loss: 0.3015 - val_loss: 0.3039\n",
            "Epoch 13/30\n",
            "60000/60000 [==============================] - 4s 72us/step - loss: 0.3009 - val_loss: 0.3021\n",
            "Epoch 14/30\n",
            "60000/60000 [==============================] - 4s 73us/step - loss: 0.2999 - val_loss: 0.3010\n",
            "Epoch 15/30\n",
            "60000/60000 [==============================] - 4s 73us/step - loss: 0.2993 - val_loss: 0.3042\n",
            "Epoch 16/30\n",
            "60000/60000 [==============================] - 4s 73us/step - loss: 0.2987 - val_loss: 0.3009\n",
            "Epoch 17/30\n",
            "60000/60000 [==============================] - 4s 73us/step - loss: 0.2981 - val_loss: 0.3023\n",
            "Epoch 18/30\n",
            "60000/60000 [==============================] - 4s 72us/step - loss: 0.2979 - val_loss: 0.3014\n",
            "Epoch 19/30\n",
            "60000/60000 [==============================] - 4s 72us/step - loss: 0.2971 - val_loss: 0.2974\n",
            "Epoch 20/30\n",
            "60000/60000 [==============================] - 4s 72us/step - loss: 0.2968 - val_loss: 0.2975\n",
            "Epoch 21/30\n",
            "60000/60000 [==============================] - 4s 72us/step - loss: 0.2962 - val_loss: 0.2979\n",
            "Epoch 22/30\n",
            "60000/60000 [==============================] - 4s 73us/step - loss: 0.2959 - val_loss: 0.2978\n",
            "Epoch 23/30\n",
            "60000/60000 [==============================] - 4s 72us/step - loss: 0.2954 - val_loss: 0.2971\n",
            "Epoch 24/30\n",
            "60000/60000 [==============================] - 4s 73us/step - loss: 0.2952 - val_loss: 0.2967\n",
            "Epoch 25/30\n",
            "60000/60000 [==============================] - 4s 74us/step - loss: 0.2948 - val_loss: 0.2958\n",
            "Epoch 26/30\n",
            "60000/60000 [==============================] - 4s 73us/step - loss: 0.2943 - val_loss: 0.2930\n",
            "Epoch 27/30\n",
            "60000/60000 [==============================] - 4s 72us/step - loss: 0.2938 - val_loss: 0.2983\n",
            "Epoch 28/30\n",
            "60000/60000 [==============================] - 4s 73us/step - loss: 0.2935 - val_loss: 0.2942\n",
            "Epoch 29/30\n",
            "60000/60000 [==============================] - 4s 72us/step - loss: 0.2933 - val_loss: 0.2942\n",
            "Epoch 30/30\n",
            "60000/60000 [==============================] - 4s 73us/step - loss: 0.2930 - val_loss: 0.2929\n"
          ],
          "name": "stdout"
        },
        {
          "output_type": "execute_result",
          "data": {
            "text/plain": [
              "<keras.callbacks.History at 0x7f2af7ce8588>"
            ]
          },
          "metadata": {
            "tags": []
          },
          "execution_count": 95
        }
      ]
    },
    {
      "metadata": {
        "id": "vzPjQLMvBsUt",
        "colab_type": "text"
      },
      "cell_type": "markdown",
      "source": [
        "Let's take a look at the reconstructed digits:"
      ]
    },
    {
      "metadata": {
        "id": "eOazPEmdBpT3",
        "colab_type": "code",
        "colab": {
          "base_uri": "https://localhost:8080/",
          "height": 244
        },
        "outputId": "b565fd04-b7a2-4c8b-9107-abf87423c28b"
      },
      "cell_type": "code",
      "source": [
        "decoded_imgs = autoencoder.predict(x_test)\n",
        "display_reconstructed(x_test, decoded_imgs, 10)"
      ],
      "execution_count": 96,
      "outputs": [
        {
          "output_type": "display_data",
          "data": {
            "image/png": "[encoded data removed]",
            "text/plain": [
              "<matplotlib.figure.Figure at 0x7f2af69c7358>"
            ]
          },
          "metadata": {
            "tags": []
          }
        }
      ]
    },
    {
      "metadata": {
        "id": "a6sXXzdzNTSm",
        "colab_type": "text"
      },
      "cell_type": "markdown",
      "source": [
        "\n",
        "## **Problem 2**\n",
        "### **Problem 2.1**\n",
        "\n",
        "First, we need to prepare the input data from Fashion MNIST."
      ]
    },
    {
      "metadata": {
        "id": "uKKfeRWCNiQH",
        "colab_type": "code",
        "colab": {
          "base_uri": "https://localhost:8080/",
          "height": 34
        },
        "outputId": "a5d84b8c-e5bf-45a7-fb21-7f0d3a4982fd"
      },
      "cell_type": "code",
      "source": [
        "(x_train, y_train), (x_test, y_test) = tf.keras.datasets.fashion_mnist.load_data()\n",
        "print(\"x_train shape:\", x_train.shape, \"y_train shape:\", y_train.shape)"
      ],
      "execution_count": 97,
      "outputs": [
        {
          "output_type": "stream",
          "text": [
            "x_train shape: (60000, 28, 28) y_train shape: (60000,)\n"
          ],
          "name": "stdout"
        }
      ]
    },
    {
      "metadata": {
        "id": "_SoCOTuJPxsu",
        "colab_type": "text"
      },
      "cell_type": "markdown",
      "source": [
        "Then, we can define the lables of the data"
      ]
    },
    {
      "metadata": {
        "id": "OV10E8PdPqJy",
        "colab_type": "code",
        "colab": {}
      },
      "cell_type": "code",
      "source": [
        "fashion_mnist_labels = [\"T-shirt/top\",  # index 0\n",
        "                        \"Trouser\",      # index 1\n",
        "                        \"Pullover\",     # index 2 \n",
        "                        \"Dress\",        # index 3 \n",
        "                        \"Coat\",         # index 4\n",
        "                        \"Sandal\",       # index 5\n",
        "                        \"Shirt\",        # index 6 \n",
        "                        \"Sneaker\",      # index 7 \n",
        "                        \"Bag\",          # index 8 \n",
        "                        \"Ankle boot\"]   # index 9"
      ],
      "execution_count": 0,
      "outputs": []
    },
    {
      "metadata": {
        "id": "F1bt8WtSPvp-",
        "colab_type": "code",
        "colab": {}
      },
      "cell_type": "code",
      "source": [
        "# Further break training data into train / validation sets (# put 5000 into validation set and keep remaining 55,000 for train)\n",
        "(x_train, x_valid) = x_train[5000:], x_train[:5000] \n",
        "(y_train, y_valid) = y_train[5000:], y_train[:5000]"
      ],
      "execution_count": 0,
      "outputs": []
    },
    {
      "metadata": {
        "id": "lrdgN822QpRI",
        "colab_type": "code",
        "colab": {}
      },
      "cell_type": "code",
      "source": [
        "# Reshape input data from (28, 28) to (28, 28, 1)\n",
        "w, h = 28, 28\n",
        "x_train = x_train.reshape(x_train.shape[0], w, h, 1)\n",
        "x_valid = x_valid.reshape(x_valid.shape[0], w, h, 1)\n",
        "x_test = x_test.reshape(x_test.shape[0], w, h, 1)"
      ],
      "execution_count": 0,
      "outputs": []
    },
    {
      "metadata": {
        "id": "b95d13VjQpnQ",
        "colab_type": "code",
        "colab": {}
      },
      "cell_type": "code",
      "source": [
        "# One-hot encode the labels\n",
        "y_train = tf.keras.utils.to_categorical(y_train, 10)\n",
        "y_valid = tf.keras.utils.to_categorical(y_valid, 10)\n",
        "y_test = tf.keras.utils.to_categorical(y_test, 10)"
      ],
      "execution_count": 0,
      "outputs": []
    },
    {
      "metadata": {
        "id": "3iHhuO3rQq5A",
        "colab_type": "code",
        "colab": {}
      },
      "cell_type": "code",
      "source": [
        "x_train = x_train.astype('float32') / 255\n",
        "x_test = x_test.astype('float32') / 255"
      ],
      "execution_count": 0,
      "outputs": []
    },
    {
      "metadata": {
        "id": "gWijR0fdRSNa",
        "colab_type": "code",
        "colab": {}
      },
      "cell_type": "code",
      "source": [
        "## Keras\n",
        "from keras.models import Sequential\n",
        "# Importing core neural networks layers \n",
        "from keras.layers import Input, Dense, Dropout, Activation, Flatten\n",
        "from keras.layers.embeddings import Embedding\n",
        "# Importing CNN layers\n",
        "from keras.layers import LSTM, Conv1D, Conv2D, MaxPooling1D, MaxPooling2D, UpSampling2D\n",
        "# Tools for data transformation\n",
        "from keras.utils import np_utils\n",
        "\n",
        "from keras import optimizers\n",
        "from keras.models import Model\n",
        "from keras import backend as K\n",
        "from keras import applications\n",
        "from keras.preprocessing.text import Tokenizer\n",
        "from keras.preprocessing.sequence import pad_sequences\n",
        "\n",
        "from keras.datasets import fashion_mnist\n",
        "model = Sequential()"
      ],
      "execution_count": 0,
      "outputs": []
    },
    {
      "metadata": {
        "id": "J_CZqiKERTtW",
        "colab_type": "code",
        "colab": {}
      },
      "cell_type": "code",
      "source": [
        "model.add(Conv2D(filters=64, kernel_size=2, padding='same', activation='relu', input_shape=(28,28,1))) \n",
        "model.add(MaxPooling2D(pool_size=2))\n",
        "model.add(Dropout(0.3))\n",
        "\n",
        "model.add(Conv2D(filters=32, kernel_size=2, padding='same', activation='relu'))\n",
        "model.add(MaxPooling2D(pool_size=2))\n",
        "model.add(Dropout(0.3))\n",
        "\n",
        "model.add(Flatten())\n",
        "model.add(Dense(256, activation='relu'))\n",
        "model.add(Dropout(0.5))\n",
        "model.add(Dense(10, activation='softmax'))"
      ],
      "execution_count": 0,
      "outputs": []
    },
    {
      "metadata": {
        "id": "sAQL6slNRZTv",
        "colab_type": "code",
        "colab": {
          "base_uri": "https://localhost:8080/",
          "height": 470
        },
        "outputId": "d5bceeee-0621-413c-a637-b10b375b5fb6"
      },
      "cell_type": "code",
      "source": [
        "model.summary()"
      ],
      "execution_count": 105,
      "outputs": [
        {
          "output_type": "stream",
          "text": [
            "_________________________________________________________________\n",
            "Layer (type)                 Output Shape              Param #   \n",
            "=================================================================\n",
            "conv2d_17 (Conv2D)           (None, 28, 28, 64)        320       \n",
            "_________________________________________________________________\n",
            "max_pooling2d_9 (MaxPooling2 (None, 14, 14, 64)        0         \n",
            "_________________________________________________________________\n",
            "dropout_9 (Dropout)          (None, 14, 14, 64)        0         \n",
            "_________________________________________________________________\n",
            "conv2d_18 (Conv2D)           (None, 14, 14, 32)        8224      \n",
            "_________________________________________________________________\n",
            "max_pooling2d_10 (MaxPooling (None, 7, 7, 32)          0         \n",
            "_________________________________________________________________\n",
            "dropout_10 (Dropout)         (None, 7, 7, 32)          0         \n",
            "_________________________________________________________________\n",
            "flatten_2 (Flatten)          (None, 1568)              0         \n",
            "_________________________________________________________________\n",
            "dense_14 (Dense)             (None, 256)               401664    \n",
            "_________________________________________________________________\n",
            "dropout_11 (Dropout)         (None, 256)               0         \n",
            "_________________________________________________________________\n",
            "dense_15 (Dense)             (None, 10)                2570      \n",
            "=================================================================\n",
            "Total params: 412,778\n",
            "Trainable params: 412,778\n",
            "Non-trainable params: 0\n",
            "_________________________________________________________________\n"
          ],
          "name": "stdout"
        }
      ]
    },
    {
      "metadata": {
        "id": "VMogkBS6RakK",
        "colab_type": "code",
        "colab": {}
      },
      "cell_type": "code",
      "source": [
        "model.compile(loss='categorical_crossentropy',\n",
        "             optimizer='adam',\n",
        "             metrics=['accuracy'])"
      ],
      "execution_count": 0,
      "outputs": []
    },
    {
      "metadata": {
        "id": "gLB8q3kYYuJj",
        "colab_type": "code",
        "colab": {
          "base_uri": "https://localhost:8080/",
          "height": 386
        },
        "outputId": "12e3e093-3417-4354-8ed6-253488d4367e"
      },
      "cell_type": "code",
      "source": [
        "model.fit(x_train,\n",
        "         y_train,\n",
        "         batch_size=64,\n",
        "         epochs=10,\n",
        "         validation_data=(x_valid, y_valid))"
      ],
      "execution_count": 107,
      "outputs": [
        {
          "output_type": "stream",
          "text": [
            "Train on 55000 samples, validate on 5000 samples\n",
            "Epoch 1/10\n",
            "55000/55000 [==============================] - 13s 228us/step - loss: 0.5932 - acc: 0.7833 - val_loss: 2.0592 - val_acc: 0.8698\n",
            "Epoch 2/10\n",
            "55000/55000 [==============================] - 11s 205us/step - loss: 0.4111 - acc: 0.8509 - val_loss: 1.7955 - val_acc: 0.8860\n",
            "Epoch 3/10\n",
            "55000/55000 [==============================] - 11s 206us/step - loss: 0.3739 - acc: 0.8648 - val_loss: 1.6860 - val_acc: 0.8932\n",
            "Epoch 4/10\n",
            "55000/55000 [==============================] - 11s 205us/step - loss: 0.3468 - acc: 0.8736 - val_loss: 1.7828 - val_acc: 0.8862\n",
            "Epoch 5/10\n",
            "55000/55000 [==============================] - 11s 204us/step - loss: 0.3286 - acc: 0.8808 - val_loss: 1.7746 - val_acc: 0.8862\n",
            "Epoch 6/10\n",
            "55000/55000 [==============================] - 11s 204us/step - loss: 0.3139 - acc: 0.8838 - val_loss: 1.5704 - val_acc: 0.9002\n",
            "Epoch 7/10\n",
            "55000/55000 [==============================] - 11s 204us/step - loss: 0.2994 - acc: 0.8899 - val_loss: 2.0113 - val_acc: 0.8718\n",
            "Epoch 8/10\n",
            "55000/55000 [==============================] - 11s 204us/step - loss: 0.2886 - acc: 0.8955 - val_loss: 1.7709 - val_acc: 0.8870\n",
            "Epoch 9/10\n",
            "55000/55000 [==============================] - 11s 204us/step - loss: 0.2814 - acc: 0.8969 - val_loss: 1.7977 - val_acc: 0.8836\n",
            "Epoch 10/10\n",
            "55000/55000 [==============================] - 11s 203us/step - loss: 0.2726 - acc: 0.8988 - val_loss: 1.7649 - val_acc: 0.8858\n"
          ],
          "name": "stdout"
        },
        {
          "output_type": "execute_result",
          "data": {
            "text/plain": [
              "<keras.callbacks.History at 0x7f2af57bd780>"
            ]
          },
          "metadata": {
            "tags": []
          },
          "execution_count": 107
        }
      ]
    },
    {
      "metadata": {
        "id": "QTm0zfQ9Yv4Z",
        "colab_type": "code",
        "colab": {}
      },
      "cell_type": "code",
      "source": [
        "# Evaluate the model on test set\n",
        "score = model.evaluate(x_test, y_test, verbose=0)"
      ],
      "execution_count": 0,
      "outputs": []
    },
    {
      "metadata": {
        "id": "Fib7go4kYwRZ",
        "colab_type": "code",
        "colab": {
          "base_uri": "https://localhost:8080/",
          "height": 50
        },
        "outputId": "797ae12d-1675-4c39-f8ad-13496b115743"
      },
      "cell_type": "code",
      "source": [
        "# Print test accuracy\n",
        "print('\\n', 'Test accuracy:', score[1])"
      ],
      "execution_count": 109,
      "outputs": [
        {
          "output_type": "stream",
          "text": [
            "\n",
            " Test accuracy: 0.9089\n"
          ],
          "name": "stdout"
        }
      ]
    },
    {
      "metadata": {
        "id": "Vc2oTEn3Yxjt",
        "colab_type": "code",
        "colab": {}
      },
      "cell_type": "code",
      "source": [
        "y_hat = model.predict(x_test)"
      ],
      "execution_count": 0,
      "outputs": []
    },
    {
      "metadata": {
        "id": "e7ZwIciXYzd5",
        "colab_type": "code",
        "colab": {
          "base_uri": "https://localhost:8080/",
          "height": 481
        },
        "outputId": "8465e0b2-8273-4c45-d176-626edb23a1ee"
      },
      "cell_type": "code",
      "source": [
        "# Plot a random sample of 10 test images, their predicted labels and ground truth\n",
        "figure = plt.figure(figsize=(20, 8))\n",
        "for i, index in enumerate(np.random.choice(x_test.shape[0], size=15, replace=False)):\n",
        "    ax = figure.add_subplot(3, 5, i + 1, xticks=[], yticks=[])\n",
        "    # Display each image\n",
        "    ax.imshow(np.squeeze(x_test[index]))\n",
        "    predict_index = np.argmax(y_hat[index])\n",
        "    true_index = np.argmax(y_test[index])\n",
        "    # Set the title for each image\n",
        "    ax.set_title(\"{} ({})\".format(fashion_mnist_labels[predict_index], \n",
        "                                  fashion_mnist_labels[true_index]),\n",
        "                                  color=(\"green\" if predict_index == true_index else \"red\"))"
      ],
      "execution_count": 111,
      "outputs": [
        {
          "output_type": "display_data",
          "data": {
            "image/png": "[encoded data removed]",
            "text/plain": [
              "<matplotlib.figure.Figure at 0x7f2af527be80>"
            ]
          },
          "metadata": {
            "tags": []
          }
        }
      ]
    },
    {
      "metadata": {
        "id": "q5kHu-OgkaL8",
        "colab_type": "code",
        "colab": {}
      },
      "cell_type": "code",
      "source": [
        ""
      ],
      "execution_count": 0,
      "outputs": []
    },
    {
      "metadata": {
        "id": "2yWAtlOmsrPY",
        "colab_type": "text"
      },
      "cell_type": "markdown",
      "source": [
        "### **Problem 2.2**\n",
        "\n",
        "I am going to use the VGG as a pre-trained backbone for this transfer learning. \n"
      ]
    },
    {
      "metadata": {
        "id": "mMgY5AwltdRJ",
        "colab_type": "code",
        "colab": {}
      },
      "cell_type": "code",
      "source": [
        "from keras.utils import np_utils\n",
        "from keras.utils import plot_model # pydot, graphviz are dependencies\n",
        "from keras.utils.vis_utils import model_to_dot\n",
        "from keras.applications import VGG16\n",
        "from keras.applications.vgg16 import preprocess_input\n",
        "from keras.layers.core import Dense, Dropout, Activation, Lambda,Flatten, Reshape\n"
      ],
      "execution_count": 0,
      "outputs": []
    },
    {
      "metadata": {
        "id": "fMtpSzTukzeE",
        "colab_type": "code",
        "colab": {
          "base_uri": "https://localhost:8080/",
          "height": 34
        },
        "outputId": "d4b47947-c5cd-4a13-a78e-b6cb9890c277"
      },
      "cell_type": "code",
      "source": [
        "(x_train, y_train), (x_test, y_test) = tf.keras.datasets.fashion_mnist.load_data()\n",
        "print(\"x_train shape:\", x_train.shape, \"y_train shape:\", y_train.shape)"
      ],
      "execution_count": 113,
      "outputs": [
        {
          "output_type": "stream",
          "text": [
            "x_train shape: (60000, 28, 28) y_train shape: (60000,)\n"
          ],
          "name": "stdout"
        }
      ]
    },
    {
      "metadata": {
        "id": "k6sdQs7okzmm",
        "colab_type": "code",
        "colab": {
          "base_uri": "https://localhost:8080/",
          "height": 34
        },
        "outputId": "137a28d2-9356-47fd-d669-637ec60eaed6"
      },
      "cell_type": "code",
      "source": [
        "x_train= np.reshape(x_train, (len(x_train), 28*28))\n",
        "x_train = np.dstack([x_train] * 3)\n",
        "x_test= np.reshape(x_test, (len(x_test), 28*28))\n",
        "x_test = np.dstack([x_test] * 3)\n",
        "x_train = x_train.reshape(-1, 28,28,3)\n",
        "x_test= x_test.reshape (-1,28,28,3)\n",
        "x_train.shape,x_test.shape"
      ],
      "execution_count": 114,
      "outputs": [
        {
          "output_type": "execute_result",
          "data": {
            "text/plain": [
              "((60000, 28, 28, 3), (10000, 28, 28, 3))"
            ]
          },
          "metadata": {
            "tags": []
          },
          "execution_count": 114
        }
      ]
    },
    {
      "metadata": {
        "id": "OGxRjJ_Bs4Zb",
        "colab_type": "text"
      },
      "cell_type": "markdown",
      "source": [
        "Then, reshape it as follows. Please note that the VGG requires an input of three channels and 48 X 48 pixels. Hence, I reshape the dataset to (length, 48, 48, 3)"
      ]
    },
    {
      "metadata": {
        "id": "6qtkUHcbs2kR",
        "colab_type": "code",
        "colab": {
          "base_uri": "https://localhost:8080/",
          "height": 34
        },
        "outputId": "71b3f162-a9fd-4227-f656-0fe7a11298ba"
      },
      "cell_type": "code",
      "source": [
        "# Reshape image to (48,48)\n",
        "from keras.preprocessing.image import img_to_array, array_to_img\n",
        "x_train = np.asarray([img_to_array(array_to_img(im, scale=False).resize((48,48))) for im in x_train])\n",
        "x_test = np.asarray([img_to_array(array_to_img(im, scale=False).resize((48,48))) for im in x_test])\n",
        "x_train.shape, x_test.shape"
      ],
      "execution_count": 115,
      "outputs": [
        {
          "output_type": "execute_result",
          "data": {
            "text/plain": [
              "((60000, 48, 48, 3), (10000, 48, 48, 3))"
            ]
          },
          "metadata": {
            "tags": []
          },
          "execution_count": 115
        }
      ]
    },
    {
      "metadata": {
        "id": "_emJXHoVs78f",
        "colab_type": "code",
        "colab": {}
      },
      "cell_type": "code",
      "source": [
        "x_train = x_train.astype('float32') / 255\n",
        "x_test = x_test.astype('float32') / 255\n",
        "y_train = np_utils.to_categorical(y_train, 10)\n",
        "y_test = np_utils.to_categorical(y_test, 10)"
      ],
      "execution_count": 0,
      "outputs": []
    },
    {
      "metadata": {
        "id": "upXOmzN_tnLm",
        "colab_type": "text"
      },
      "cell_type": "markdown",
      "source": [
        "Now, we are going to build a transfer model."
      ]
    },
    {
      "metadata": {
        "id": "jBDpKsgls_L8",
        "colab_type": "code",
        "colab": {}
      },
      "cell_type": "code",
      "source": [
        "number_of_classes = 10\n",
        "\n",
        "vgg = VGG16(weights = \"imagenet\", include_top=False,  input_shape=(48, 48, 3) ,pooling='max', classes=number_of_classes)\n",
        "\n",
        "for layer in vgg.layers[:17]:\n",
        "    layer.trainable = False\n",
        "\n",
        "x = vgg.output\n",
        "x = Dense(1024, activation=\"relu\")(x)\n",
        "x = Dropout(0.5)(x)\n",
        "x = Dense(1024, activation=\"relu\")(x)\n",
        "predictions = Dense(number_of_classes, activation=\"softmax\")(x)\n",
        "\n",
        "# creating the final model \n",
        "vgg_model = Model(inputs = vgg.input, outputs = predictions)"
      ],
      "execution_count": 0,
      "outputs": []
    },
    {
      "metadata": {
        "id": "LYBHjMvMtrxF",
        "colab_type": "code",
        "colab": {
          "base_uri": "https://localhost:8080/",
          "height": 941
        },
        "outputId": "798254b5-d15b-4024-f9a5-f2b0afeb81c2"
      },
      "cell_type": "code",
      "source": [
        "vgg_model.summary()"
      ],
      "execution_count": 120,
      "outputs": [
        {
          "output_type": "stream",
          "text": [
            "_________________________________________________________________\n",
            "Layer (type)                 Output Shape              Param #   \n",
            "=================================================================\n",
            "input_15 (InputLayer)        (None, 48, 48, 3)         0         \n",
            "_________________________________________________________________\n",
            "block1_conv1 (Conv2D)        (None, 48, 48, 64)        1792      \n",
            "_________________________________________________________________\n",
            "block1_conv2 (Conv2D)        (None, 48, 48, 64)        36928     \n",
            "_________________________________________________________________\n",
            "block1_pool (MaxPooling2D)   (None, 24, 24, 64)        0         \n",
            "_________________________________________________________________\n",
            "block2_conv1 (Conv2D)        (None, 24, 24, 128)       73856     \n",
            "_________________________________________________________________\n",
            "block2_conv2 (Conv2D)        (None, 24, 24, 128)       147584    \n",
            "_________________________________________________________________\n",
            "block2_pool (MaxPooling2D)   (None, 12, 12, 128)       0         \n",
            "_________________________________________________________________\n",
            "block3_conv1 (Conv2D)        (None, 12, 12, 256)       295168    \n",
            "_________________________________________________________________\n",
            "block3_conv2 (Conv2D)        (None, 12, 12, 256)       590080    \n",
            "_________________________________________________________________\n",
            "block3_conv3 (Conv2D)        (None, 12, 12, 256)       590080    \n",
            "_________________________________________________________________\n",
            "block3_pool (MaxPooling2D)   (None, 6, 6, 256)         0         \n",
            "_________________________________________________________________\n",
            "block4_conv1 (Conv2D)        (None, 6, 6, 512)         1180160   \n",
            "_________________________________________________________________\n",
            "block4_conv2 (Conv2D)        (None, 6, 6, 512)         2359808   \n",
            "_________________________________________________________________\n",
            "block4_conv3 (Conv2D)        (None, 6, 6, 512)         2359808   \n",
            "_________________________________________________________________\n",
            "block4_pool (MaxPooling2D)   (None, 3, 3, 512)         0         \n",
            "_________________________________________________________________\n",
            "block5_conv1 (Conv2D)        (None, 3, 3, 512)         2359808   \n",
            "_________________________________________________________________\n",
            "block5_conv2 (Conv2D)        (None, 3, 3, 512)         2359808   \n",
            "_________________________________________________________________\n",
            "block5_conv3 (Conv2D)        (None, 3, 3, 512)         2359808   \n",
            "_________________________________________________________________\n",
            "block5_pool (MaxPooling2D)   (None, 1, 1, 512)         0         \n",
            "_________________________________________________________________\n",
            "global_max_pooling2d_3 (Glob (None, 512)               0         \n",
            "_________________________________________________________________\n",
            "dense_19 (Dense)             (None, 1024)              525312    \n",
            "_________________________________________________________________\n",
            "dropout_13 (Dropout)         (None, 1024)              0         \n",
            "_________________________________________________________________\n",
            "dense_20 (Dense)             (None, 1024)              1049600   \n",
            "_________________________________________________________________\n",
            "dense_21 (Dense)             (None, 10)                10250     \n",
            "=================================================================\n",
            "Total params: 16,299,850\n",
            "Trainable params: 3,944,970\n",
            "Non-trainable params: 12,354,880\n",
            "_________________________________________________________________\n"
          ],
          "name": "stdout"
        }
      ]
    },
    {
      "metadata": {
        "id": "AaToyuXCuryi",
        "colab_type": "code",
        "colab": {
          "base_uri": "https://localhost:8080/",
          "height": 202
        },
        "outputId": "db156936-ce50-4b67-e31a-ef378fa1cd5b"
      },
      "cell_type": "code",
      "source": [
        "# Training the model\n",
        "batch_size = 256\n",
        "epochs = 5\n",
        "#model = create_model()\n",
        "vgg_model.compile(optimizer='adam',loss='categorical_crossentropy',metrics=['accuracy'])\n",
        "\n",
        "history = vgg_model.fit(x_train, y_train,\n",
        "                    batch_size=batch_size,\n",
        "                    epochs=epochs,\n",
        "                    verbose=1,\n",
        "validation_data=(x_test, y_test))"
      ],
      "execution_count": 121,
      "outputs": [
        {
          "output_type": "stream",
          "text": [
            "Train on 60000 samples, validate on 10000 samples\n",
            "Epoch 1/5\n",
            "60000/60000 [==============================] - 42s 707us/step - loss: 0.4487 - acc: 0.8385 - val_loss: 0.3372 - val_acc: 0.8767\n",
            "Epoch 2/5\n",
            "60000/60000 [==============================] - 41s 683us/step - loss: 0.3151 - acc: 0.8842 - val_loss: 0.3247 - val_acc: 0.8833\n",
            "Epoch 3/5\n",
            "60000/60000 [==============================] - 41s 684us/step - loss: 0.2766 - acc: 0.8978 - val_loss: 0.3280 - val_acc: 0.8785\n",
            "Epoch 4/5\n",
            "60000/60000 [==============================] - 41s 683us/step - loss: 0.2544 - acc: 0.9054 - val_loss: 0.3209 - val_acc: 0.8876\n",
            "Epoch 5/5\n",
            "60000/60000 [==============================] - 41s 683us/step - loss: 0.2407 - acc: 0.9106 - val_loss: 0.2858 - val_acc: 0.8946\n"
          ],
          "name": "stdout"
        }
      ]
    },
    {
      "metadata": {
        "id": "-TizCs4QuwHt",
        "colab_type": "code",
        "colab": {
          "base_uri": "https://localhost:8080/",
          "height": 84
        },
        "outputId": "e0248c17-3009-4428-f835-07860ecf82ba"
      },
      "cell_type": "code",
      "source": [
        "print(\"Training accuracy = %0.05f\" % vgg_model.evaluate(x_train, y_train)[1])\n",
        "print(\"Testing accuracy = %0.05f\" % vgg_model.evaluate(x_test, y_test)[1])"
      ],
      "execution_count": 122,
      "outputs": [
        {
          "output_type": "stream",
          "text": [
            "60000/60000 [==============================] - 52s 866us/step\n",
            "Training accuracy = 0.91737\n",
            "10000/10000 [==============================] - 9s 864us/step\n",
            "Testing accuracy = 0.89460\n"
          ],
          "name": "stdout"
        }
      ]
    },
    {
      "metadata": {
        "id": "InDa9jk5vEZg",
        "colab_type": "text"
      },
      "cell_type": "markdown",
      "source": [
        "The performance of the transfer learning on training set and test set are 0.91737 and 0.89460   respectively."
      ]
    },
    {
      "metadata": {
        "id": "ziAAoP7HmDlr",
        "colab_type": "text"
      },
      "cell_type": "markdown",
      "source": [
        "## **Problem 3**\n",
        "### **Problem 3.1**\n",
        "\n",
        "Upload files first."
      ]
    },
    {
      "metadata": {
        "id": "eJ-adGw1lsU1",
        "colab_type": "code",
        "colab": {}
      },
      "cell_type": "code",
      "source": [
        "import pandas as pd\n",
        "benign = pd.read_csv(\"https://s3.amazonaws.com/anly-590/url-classification/benign-urls.txt\" , header = None)\n",
        "malicious =  pd.read_csv(\"https://s3.amazonaws.com/anly-590/url-classification/malicious-urls.txt\", header = None)"
      ],
      "execution_count": 0,
      "outputs": []
    },
    {
      "metadata": {
        "id": "nYrtWoXov1SC",
        "colab_type": "text"
      },
      "cell_type": "markdown",
      "source": [
        "After reading the data, I am going to preprocess the dataframe."
      ]
    },
    {
      "metadata": {
        "id": "8HNZ8AIDl7KF",
        "colab_type": "code",
        "colab": {}
      },
      "cell_type": "code",
      "source": [
        "benign = benign.drop([0])\n",
        "malicious = malicious.rename(columns = {0:\"URL\"})\n",
        "benign = benign.rename(columns = {0:\"URL\"})\n",
        "benign['Is_Malicious'] = 0\n",
        "malicious['Is_Malicious'] = 1"
      ],
      "execution_count": 0,
      "outputs": []
    },
    {
      "metadata": {
        "id": "PRfbaReIv8LJ",
        "colab_type": "code",
        "colab": {
          "base_uri": "https://localhost:8080/",
          "height": 195
        },
        "outputId": "774b1f00-405c-4ef2-b7f3-155fc3c07328"
      },
      "cell_type": "code",
      "source": [
        "df = pd.concat([benign, malicious])\n",
        "df.head()"
      ],
      "execution_count": 164,
      "outputs": [
        {
          "output_type": "execute_result",
          "data": {
            "text/html": [
              "<div>\n",
              "<style scoped>\n",
              "    .dataframe tbody tr th:only-of-type {\n",
              "        vertical-align: middle;\n",
              "    }\n",
              "\n",
              "    .dataframe tbody tr th {\n",
              "        vertical-align: top;\n",
              "    }\n",
              "\n",
              "    .dataframe thead th {\n",
              "        text-align: right;\n",
              "    }\n",
              "</style>\n",
              "<table border=\"1\" class=\"dataframe\">\n",
              "  <thead>\n",
              "    <tr style=\"text-align: right;\">\n",
              "      <th></th>\n",
              "      <th>URL</th>\n",
              "      <th>Is_Malicious</th>\n",
              "    </tr>\n",
              "  </thead>\n",
              "  <tbody>\n",
              "    <tr>\n",
              "      <th>1</th>\n",
              "      <td>.0.blogger.gmodules.com</td>\n",
              "      <td>0</td>\n",
              "    </tr>\n",
              "    <tr>\n",
              "      <th>2</th>\n",
              "      <td>.0.client-channel.google.com</td>\n",
              "      <td>0</td>\n",
              "    </tr>\n",
              "    <tr>\n",
              "      <th>3</th>\n",
              "      <td>.0.docs.google.com</td>\n",
              "      <td>0</td>\n",
              "    </tr>\n",
              "    <tr>\n",
              "      <th>4</th>\n",
              "      <td>.0.drive.google.com</td>\n",
              "      <td>0</td>\n",
              "    </tr>\n",
              "    <tr>\n",
              "      <th>5</th>\n",
              "      <td>.0.gvt0.cn</td>\n",
              "      <td>0</td>\n",
              "    </tr>\n",
              "  </tbody>\n",
              "</table>\n",
              "</div>"
            ],
            "text/plain": [
              "                            URL  Is_Malicious\n",
              "1       .0.blogger.gmodules.com             0\n",
              "2  .0.client-channel.google.com             0\n",
              "3            .0.docs.google.com             0\n",
              "4           .0.drive.google.com             0\n",
              "5                    .0.gvt0.cn             0"
            ]
          },
          "metadata": {
            "tags": []
          },
          "execution_count": 164
        }
      ]
    },
    {
      "metadata": {
        "id": "DB75GKlgwBXD",
        "colab_type": "code",
        "colab": {
          "base_uri": "https://localhost:8080/",
          "height": 34
        },
        "outputId": "d470af0c-5a37-495b-df60-e69482485f43"
      },
      "cell_type": "code",
      "source": [
        "from string import printable\n",
        "from keras.preprocessing import sequence\n",
        "from sklearn.model_selection import train_test_split\n",
        "from keras import regularizers\n",
        "from keras.regularizers import l2\n",
        "from keras.layers import Bidirectional, SimpleRNN\n",
        "from keras.optimizers import SGD, Adam, RMSprop\n",
        "from sklearn import model_selection\n",
        "from sklearn.model_selection import train_test_split\n",
        "\n",
        "\n",
        "\n",
        "# Data preprocessing\n",
        "\n",
        "# Convert The URLs to indices of printable characters\n",
        "url_tokens = [[printable.index(x) + 1 for x in url if x in printable] for url in df.URL]\n",
        "\n",
        "# maximal lenghth and padding\n",
        "max_len=75\n",
        "X = sequence.pad_sequences(url_tokens, maxlen=max_len)\n",
        " \n",
        "# get the response\n",
        "y = np.array(df.Is_Malicious)\n",
        "\n",
        "print('Matrix dimensions of X: ', X.shape, 'Vector dimension of response: ', y.shape)"
      ],
      "execution_count": 165,
      "outputs": [
        {
          "output_type": "stream",
          "text": [
            "Matrix dimensions of X:  (67352, 75) Vector dimension of response:  (67352,)\n"
          ],
          "name": "stdout"
        }
      ]
    },
    {
      "metadata": {
        "id": "CMjSJnT4wB5b",
        "colab_type": "code",
        "colab": {}
      },
      "cell_type": "code",
      "source": [
        "# Simple Cross-Validation: Split the data set into training and test data\n",
        "X_train, X_test, y_train, y_test = train_test_split(X, y, test_size=0.25, random_state=3)"
      ],
      "execution_count": 0,
      "outputs": []
    },
    {
      "metadata": {
        "id": "Y7Sj2Uycwkry",
        "colab_type": "text"
      },
      "cell_type": "markdown",
      "source": [
        "In this case, I used the Bidirectional RNN to do the classification."
      ]
    },
    {
      "metadata": {
        "id": "UccbbyGCwCAq",
        "colab_type": "code",
        "colab": {
          "base_uri": "https://localhost:8080/",
          "height": 322
        },
        "outputId": "5a8fb29d-8ee6-46a4-cbb3-9486ee8590c0"
      },
      "cell_type": "code",
      "source": [
        "# Input\n",
        "max_len=75\n",
        "emb_dim=32\n",
        "max_vocab_len=100\n",
        "output_size=32\n",
        "W_reg=regularizers.l2(1e-4)\n",
        "\n",
        "inp = Input(shape=(max_len,),dtype='int32')\n",
        "\n",
        "x = Embedding(input_dim=max_vocab_len, output_dim=emb_dim, input_length=max_len, W_regularizer=W_reg)(inp) \n",
        "x = Bidirectional(SimpleRNN(100, \n",
        "                             return_sequences=False, \n",
        "                             dropout=0.1, \n",
        "                             recurrent_dropout=0.1))(x)\n",
        "x = Dense(1, activation='sigmoid')(x)\n",
        "\n",
        "# Setting the model\n",
        "model1 = Model(inputs=inp, outputs=x)\n",
        "adam = Adam(lr=1e-4, beta_1=0.9, beta_2=0.999, epsilon=1e-08, decay=0.0)\n",
        "model1.compile(optimizer=adam, loss='binary_crossentropy', metrics=['accuracy'])\n",
        "model1.summary()"
      ],
      "execution_count": 167,
      "outputs": [
        {
          "output_type": "stream",
          "text": [
            "/usr/local/lib/python3.6/dist-packages/ipykernel_launcher.py:9: UserWarning: Update your `Embedding` call to the Keras 2 API: `Embedding(input_dim=100, output_dim=32, input_length=75, embeddings_regularizer=<keras.reg...)`\n",
            "  if __name__ == '__main__':\n"
          ],
          "name": "stderr"
        },
        {
          "output_type": "stream",
          "text": [
            "_________________________________________________________________\n",
            "Layer (type)                 Output Shape              Param #   \n",
            "=================================================================\n",
            "input_19 (InputLayer)        (None, 75)                0         \n",
            "_________________________________________________________________\n",
            "embedding_11 (Embedding)     (None, 75, 32)            3200      \n",
            "_________________________________________________________________\n",
            "bidirectional_5 (Bidirection (None, 200)               26600     \n",
            "_________________________________________________________________\n",
            "dense_25 (Dense)             (None, 1)                 201       \n",
            "=================================================================\n",
            "Total params: 30,001\n",
            "Trainable params: 30,001\n",
            "Non-trainable params: 0\n",
            "_________________________________________________________________\n"
          ],
          "name": "stdout"
        }
      ]
    },
    {
      "metadata": {
        "id": "EIHcTBZlvN_T",
        "colab_type": "code",
        "colab": {
          "base_uri": "https://localhost:8080/",
          "height": 840
        },
        "outputId": "46f5b6ae-9c42-4a9d-bae1-7223674a96f8"
      },
      "cell_type": "code",
      "source": [
        "cwd = os.getcwd()\n",
        "epochs = 20\n",
        "batch_size = 32\n",
        "\n",
        "# early stopping\n",
        "callbacks = [EarlyStopping(monitor='val_loss', patience=2),\n",
        "             ModelCheckpoint(filepath='Best_BI_RNN_model.h5', monitor='val_loss', save_best_only=True)]\n",
        "\n",
        "\n",
        "history1 = model1.fit(X_train, y_train, epochs=epochs, \n",
        "                      batch_size=batch_size, \n",
        "                      validation_data=(X_test, y_test),\n",
        "                     callbacks=callbacks)\n",
        "\n",
        "loss, accuracy = model1.evaluate(X_train, y_train, verbose=1)\n",
        "print('\\nTraining Accuracy = ', accuracy, '\\n')\n",
        "\n",
        "loss, accuracy = model1.evaluate(X_test, y_test, verbose=1)\n",
        "print('\\nTesting Accuracy =', accuracy, '\\n')"
      ],
      "execution_count": 168,
      "outputs": [
        {
          "output_type": "stream",
          "text": [
            "Train on 50514 samples, validate on 16838 samples\n",
            "Epoch 1/20\n",
            "50514/50514 [==============================] - 269s 5ms/step - loss: 0.1099 - acc: 0.9760 - val_loss: 0.0869 - val_acc: 0.9813\n",
            "Epoch 2/20\n",
            "50514/50514 [==============================] - 266s 5ms/step - loss: 0.0875 - acc: 0.9802 - val_loss: 0.0732 - val_acc: 0.9813\n",
            "Epoch 3/20\n",
            "50514/50514 [==============================] - 265s 5ms/step - loss: 0.0780 - acc: 0.9795 - val_loss: 0.0637 - val_acc: 0.9811\n",
            "Epoch 4/20\n",
            "50514/50514 [==============================] - 266s 5ms/step - loss: 0.0704 - acc: 0.9794 - val_loss: 0.0584 - val_acc: 0.9813\n",
            "Epoch 5/20\n",
            "50514/50514 [==============================] - 267s 5ms/step - loss: 0.0624 - acc: 0.9797 - val_loss: 0.0522 - val_acc: 0.9811\n",
            "Epoch 6/20\n",
            "50514/50514 [==============================] - 267s 5ms/step - loss: 0.0565 - acc: 0.9799 - val_loss: 0.0488 - val_acc: 0.9818\n",
            "Epoch 7/20\n",
            "50514/50514 [==============================] - 268s 5ms/step - loss: 0.0524 - acc: 0.9811 - val_loss: 0.0432 - val_acc: 0.9826\n",
            "Epoch 8/20\n",
            "50514/50514 [==============================] - 267s 5ms/step - loss: 0.0494 - acc: 0.9813 - val_loss: 0.0472 - val_acc: 0.9828\n",
            "Epoch 9/20\n",
            "50514/50514 [==============================] - 268s 5ms/step - loss: 0.0460 - acc: 0.9823 - val_loss: 0.0365 - val_acc: 0.9843\n",
            "Epoch 10/20\n",
            "50514/50514 [==============================] - 269s 5ms/step - loss: 0.0417 - acc: 0.9836 - val_loss: 0.0370 - val_acc: 0.9851\n",
            "Epoch 11/20\n",
            "50514/50514 [==============================] - 275s 5ms/step - loss: 0.0381 - acc: 0.9837 - val_loss: 0.0330 - val_acc: 0.9863\n",
            "Epoch 12/20\n",
            "50514/50514 [==============================] - 271s 5ms/step - loss: 0.0345 - acc: 0.9850 - val_loss: 0.0274 - val_acc: 0.9874\n",
            "Epoch 13/20\n",
            "50514/50514 [==============================] - 271s 5ms/step - loss: 0.0323 - acc: 0.9862 - val_loss: 0.0254 - val_acc: 0.9882\n",
            "Epoch 14/20\n",
            "50514/50514 [==============================] - 270s 5ms/step - loss: 0.0299 - acc: 0.9867 - val_loss: 0.0236 - val_acc: 0.9890\n",
            "Epoch 15/20\n",
            "50514/50514 [==============================] - 269s 5ms/step - loss: 0.0294 - acc: 0.9867 - val_loss: 0.0231 - val_acc: 0.9892\n",
            "Epoch 16/20\n",
            "50514/50514 [==============================] - 269s 5ms/step - loss: 0.0279 - acc: 0.9870 - val_loss: 0.0226 - val_acc: 0.9881\n",
            "Epoch 17/20\n",
            "50514/50514 [==============================] - 270s 5ms/step - loss: 0.0267 - acc: 0.9882 - val_loss: 0.0220 - val_acc: 0.9888\n",
            "Epoch 18/20\n",
            "50514/50514 [==============================] - 268s 5ms/step - loss: 0.0268 - acc: 0.9875 - val_loss: 0.0234 - val_acc: 0.9884\n",
            "Epoch 19/20\n",
            "50514/50514 [==============================] - 268s 5ms/step - loss: 0.0256 - acc: 0.9884 - val_loss: 0.0219 - val_acc: 0.9896\n",
            "Epoch 20/20\n",
            "50514/50514 [==============================] - 268s 5ms/step - loss: 0.0254 - acc: 0.9881 - val_loss: 0.0217 - val_acc: 0.9900\n",
            "50514/50514 [==============================] - 124s 2ms/step\n",
            "\n",
            "Training Accuracy =  0.9903195153724347 \n",
            "\n",
            "16838/16838 [==============================] - 42s 2ms/step\n",
            "\n",
            "Testing Accuracy = 0.9899631785247655 \n",
            "\n"
          ],
          "name": "stdout"
        }
      ]
    },
    {
      "metadata": {
        "id": "BlPJ62augN1u",
        "colab_type": "text"
      },
      "cell_type": "markdown",
      "source": [
        "The training and testing accuracies are 0.9903 and 0.9899 respectively, which are very high."
      ]
    },
    {
      "metadata": {
        "id": "y01qLrxVwCHe",
        "colab_type": "code",
        "colab": {}
      },
      "cell_type": "code",
      "source": [
        "## Using Different URLs to test the model\n",
        "test_url_mal = \".btscene2.com\"\n",
        "test_url_benign = \"www.cnn.com\""
      ],
      "execution_count": 0,
      "outputs": []
    },
    {
      "metadata": {
        "id": "pyy03xSrvaOV",
        "colab_type": "code",
        "colab": {}
      },
      "cell_type": "code",
      "source": [
        "def test_url(url, model):\n",
        "  # Step 1: Convert raw URL string in list of lists where characters that are contained in \"printable\" are stored encoded as integer \n",
        "  url_int_tokens = [[printable.index(x) + 1 for x in url if x in printable]]\n",
        "\n",
        "  # Step 2: Cut URL string at max_len or pad with zeros if shorter\n",
        "  max_len=75\n",
        "  X = sequence.pad_sequences(url_int_tokens, maxlen=max_len)\n",
        "  proba = model.predict(X, batch_size=1)\n",
        "  if proba > 0.5:\n",
        "        result = \"malicious\"\n",
        "  else:\n",
        "        result = \"benign\"\n",
        "  print(\"Test URL:\", url, \"is\",result)"
      ],
      "execution_count": 0,
      "outputs": []
    },
    {
      "metadata": {
        "id": "0awhpSXZwEFq",
        "colab_type": "code",
        "colab": {
          "base_uri": "https://localhost:8080/",
          "height": 50
        },
        "outputId": "36e34ae4-295e-4e7d-97f3-4061f1015b22"
      },
      "cell_type": "code",
      "source": [
        "test_url(test_url_mal,model1)\n",
        "test_url(test_url_benign,model1)"
      ],
      "execution_count": 171,
      "outputs": [
        {
          "output_type": "stream",
          "text": [
            "Test URL: .btscene2.com is malicious\n",
            "Test URL: www.cnn.com is benign\n"
          ],
          "name": "stdout"
        }
      ]
    },
    {
      "metadata": {
        "id": "BELi5Nb5wuW-",
        "colab_type": "text"
      },
      "cell_type": "markdown",
      "source": [
        "From the test above, the model detects malicious URLs from the benign URLs.\n",
        "\n"
      ]
    },
    {
      "metadata": {
        "id": "EqowaUlbwvyf",
        "colab_type": "text"
      },
      "cell_type": "markdown",
      "source": [
        "### **Problem 3.2**"
      ]
    },
    {
      "metadata": {
        "id": "tl-xHR09iXgE",
        "colab_type": "code",
        "colab": {}
      },
      "cell_type": "code",
      "source": [
        "from keras.layers import Input, ELU, LSTM, Embedding, Convolution2D, MaxPooling2D, BatchNormalization, Convolution1D, MaxPooling1D, concatenate"
      ],
      "execution_count": 0,
      "outputs": []
    },
    {
      "metadata": {
        "id": "qMsHWXwPwzP4",
        "colab_type": "code",
        "colab": {
          "base_uri": "https://localhost:8080/",
          "height": 524
        },
        "outputId": "07ef6d06-54f4-4071-a9b2-4e7884ccc00a"
      },
      "cell_type": "code",
      "source": [
        "# Input\n",
        "max_len=75\n",
        "emb_dim=32\n",
        "max_vocab_len=100\n",
        "output_size=32\n",
        "W_reg=regularizers.l2(1e-4)\n",
        "\n",
        "inp = Input(shape=(max_len,),dtype='int32')\n",
        "\n",
        "x = Embedding(input_dim=max_vocab_len, output_dim=emb_dim, input_length=max_len, W_regularizer=W_reg)(inp) \n",
        "\n",
        "# CNN\n",
        "x =Convolution1D(kernel_size=5, filters=256, border_mode='same')(x)\n",
        "x = ELU()(x)\n",
        "x = MaxPooling1D(pool_size=4)(x)\n",
        "x = Dropout(0.1)(x)\n",
        "\n",
        "# LSTM\n",
        "x = LSTM(output_size)(x)\n",
        "x = Dropout(0.1)(x)\n",
        "x = Dense(1, activation='sigmoid')(x)\n",
        "\n",
        "# Setting the model\n",
        "model2 = Model(inputs=inp, outputs=x)\n",
        "adam = Adam(lr=1e-4, beta_1=0.9, beta_2=0.999, epsilon=1e-08, decay=0.0)\n",
        "model2.compile(optimizer=adam, loss='binary_crossentropy', metrics=['accuracy'])\n",
        "model2.summary()"
      ],
      "execution_count": 173,
      "outputs": [
        {
          "output_type": "stream",
          "text": [
            "/usr/local/lib/python3.6/dist-packages/ipykernel_launcher.py:9: UserWarning: Update your `Embedding` call to the Keras 2 API: `Embedding(input_dim=100, output_dim=32, input_length=75, embeddings_regularizer=<keras.reg...)`\n",
            "  if __name__ == '__main__':\n",
            "/usr/local/lib/python3.6/dist-packages/ipykernel_launcher.py:12: UserWarning: Update your `Conv1D` call to the Keras 2 API: `Conv1D(kernel_size=5, filters=256, padding=\"same\")`\n",
            "  if sys.path[0] == '':\n"
          ],
          "name": "stderr"
        },
        {
          "output_type": "stream",
          "text": [
            "_________________________________________________________________\n",
            "Layer (type)                 Output Shape              Param #   \n",
            "=================================================================\n",
            "input_20 (InputLayer)        (None, 75)                0         \n",
            "_________________________________________________________________\n",
            "embedding_12 (Embedding)     (None, 75, 32)            3200      \n",
            "_________________________________________________________________\n",
            "conv1d_4 (Conv1D)            (None, 75, 256)           41216     \n",
            "_________________________________________________________________\n",
            "elu_4 (ELU)                  (None, 75, 256)           0         \n",
            "_________________________________________________________________\n",
            "max_pooling1d_4 (MaxPooling1 (None, 18, 256)           0         \n",
            "_________________________________________________________________\n",
            "dropout_17 (Dropout)         (None, 18, 256)           0         \n",
            "_________________________________________________________________\n",
            "lstm_5 (LSTM)                (None, 32)                36992     \n",
            "_________________________________________________________________\n",
            "dropout_18 (Dropout)         (None, 32)                0         \n",
            "_________________________________________________________________\n",
            "dense_26 (Dense)             (None, 1)                 33        \n",
            "=================================================================\n",
            "Total params: 81,441\n",
            "Trainable params: 81,441\n",
            "Non-trainable params: 0\n",
            "_________________________________________________________________\n"
          ],
          "name": "stdout"
        }
      ]
    },
    {
      "metadata": {
        "id": "tuV2Acy8wzk5",
        "colab_type": "code",
        "colab": {
          "base_uri": "https://localhost:8080/",
          "height": 605
        },
        "outputId": "ec484fb3-61d2-4b3a-ac77-57e459241fac"
      },
      "cell_type": "code",
      "source": [
        "cwd = os.getcwd()\n",
        "epochs = 20\n",
        "batch_size = 64\n",
        "\n",
        "# early stopping\n",
        "callbacks = [EarlyStopping(monitor='val_loss', patience=2),\n",
        "             ModelCheckpoint(filepath='Best_CNN_LSTM_model.h5', monitor='val_loss', save_best_only=True)]\n",
        "\n",
        "\n",
        "history2 = model2.fit(X_train, y_train, epochs=epochs, \n",
        "                      batch_size=batch_size, \n",
        "                      validation_data=(X_test, y_test),\n",
        "                     callbacks=callbacks)\n",
        "  \n",
        "\n",
        "loss, accuracy = model2.evaluate(X_train, y_train, verbose=1)\n",
        "print('\\nTraining Accuracy = ', accuracy, '\\n')\n",
        "\n",
        "loss, accuracy = model2.evaluate(X_test, y_test, verbose=1)\n",
        "print('\\nTesting Accuracy =', accuracy, '\\n')"
      ],
      "execution_count": 174,
      "outputs": [
        {
          "output_type": "stream",
          "text": [
            "Train on 50514 samples, validate on 16838 samples\n",
            "Epoch 1/20\n",
            "50514/50514 [==============================] - 61s 1ms/step - loss: 0.1380 - acc: 0.9794 - val_loss: 0.0734 - val_acc: 0.9813\n",
            "Epoch 2/20\n",
            "50514/50514 [==============================] - 58s 1ms/step - loss: 0.0687 - acc: 0.9806 - val_loss: 0.0598 - val_acc: 0.9813\n",
            "Epoch 3/20\n",
            "50514/50514 [==============================] - 58s 1ms/step - loss: 0.0506 - acc: 0.9806 - val_loss: 0.0382 - val_acc: 0.9815\n",
            "Epoch 4/20\n",
            "50514/50514 [==============================] - 57s 1ms/step - loss: 0.0311 - acc: 0.9854 - val_loss: 0.0256 - val_acc: 0.9874\n",
            "Epoch 5/20\n",
            "50514/50514 [==============================] - 58s 1ms/step - loss: 0.0249 - acc: 0.9889 - val_loss: 0.0226 - val_acc: 0.9892\n",
            "Epoch 6/20\n",
            "50514/50514 [==============================] - 57s 1ms/step - loss: 0.0224 - acc: 0.9898 - val_loss: 0.0214 - val_acc: 0.9896\n",
            "Epoch 7/20\n",
            "50514/50514 [==============================] - 57s 1ms/step - loss: 0.0209 - acc: 0.9905 - val_loss: 0.0205 - val_acc: 0.9907\n",
            "Epoch 8/20\n",
            "50514/50514 [==============================] - 57s 1ms/step - loss: 0.0201 - acc: 0.9905 - val_loss: 0.0200 - val_acc: 0.9908\n",
            "Epoch 9/20\n",
            "50514/50514 [==============================] - 57s 1ms/step - loss: 0.0193 - acc: 0.9912 - val_loss: 0.0198 - val_acc: 0.9906\n",
            "Epoch 10/20\n",
            "50514/50514 [==============================] - 57s 1ms/step - loss: 0.0185 - acc: 0.9914 - val_loss: 0.0192 - val_acc: 0.9916\n",
            "Epoch 11/20\n",
            "50514/50514 [==============================] - 57s 1ms/step - loss: 0.0181 - acc: 0.9916 - val_loss: 0.0189 - val_acc: 0.9917\n",
            "Epoch 12/20\n",
            "50514/50514 [==============================] - 57s 1ms/step - loss: 0.0174 - acc: 0.9922 - val_loss: 0.0200 - val_acc: 0.9906\n",
            "Epoch 13/20\n",
            "50514/50514 [==============================] - 57s 1ms/step - loss: 0.0170 - acc: 0.9925 - val_loss: 0.0189 - val_acc: 0.9916\n",
            "50514/50514 [==============================] - 37s 725us/step\n",
            "\n",
            "Training Accuracy =  0.9932691926990538 \n",
            "\n",
            "16838/16838 [==============================] - 12s 724us/step\n",
            "\n",
            "Testing Accuracy = 0.9915666943817556 \n",
            "\n"
          ],
          "name": "stdout"
        }
      ]
    },
    {
      "metadata": {
        "id": "D9VzDbn-gZCk",
        "colab_type": "text"
      },
      "cell_type": "markdown",
      "source": [
        "The training and testing accuracies are 0.9932 and 0.9915, which are very high as well."
      ]
    },
    {
      "metadata": {
        "id": "uWjnScxow1V8",
        "colab_type": "code",
        "colab": {
          "base_uri": "https://localhost:8080/",
          "height": 50
        },
        "outputId": "fbe9bf2c-0cbd-4de1-f4ad-48bce298d718"
      },
      "cell_type": "code",
      "source": [
        "test_url(test_url_mal,model2)\n",
        "test_url(test_url_benign,model2)"
      ],
      "execution_count": 175,
      "outputs": [
        {
          "output_type": "stream",
          "text": [
            "Test URL: .btscene2.com is malicious\n",
            "Test URL: www.cnn.com is benign\n"
          ],
          "name": "stdout"
        }
      ]
    },
    {
      "metadata": {
        "id": "TM7Y5mW5w4G1",
        "colab_type": "text"
      },
      "cell_type": "markdown",
      "source": [
        "The CNN+LSTM model's accuracy is higher than the previous one.\n",
        "\n"
      ]
    },
    {
      "metadata": {
        "id": "3roDZ79Ww6vq",
        "colab_type": "text"
      },
      "cell_type": "markdown",
      "source": [
        "### **Problem 3.3**"
      ]
    },
    {
      "metadata": {
        "id": "P6IsYUxmdbMs",
        "colab_type": "code",
        "colab": {
          "base_uri": "https://localhost:8080/",
          "height": 294
        },
        "outputId": "9aba058d-5070-4119-ff81-9260c5692146"
      },
      "cell_type": "code",
      "source": [
        "plt.plot(history1.history['acc'])\n",
        "plt.plot(history1.history['val_acc'])\n",
        "plt.title('RNN model accuracy')\n",
        "plt.ylabel('accuracy')\n",
        "plt.xlabel('epoch')\n",
        "plt.legend(['train', 'validation'], loc='upper left')\n",
        "plt.show()"
      ],
      "execution_count": 177,
      "outputs": [
        {
          "output_type": "display_data",
          "data": {
            "image/png": "[encoded data removed]",
            "text/plain": [
              "<matplotlib.figure.Figure at 0x7f2aee10bba8>"
            ]
          },
          "metadata": {
            "tags": []
          }
        }
      ]
    },
    {
      "metadata": {
        "id": "dNjz6kPYeEPd",
        "colab_type": "code",
        "colab": {
          "base_uri": "https://localhost:8080/",
          "height": 294
        },
        "outputId": "be1b8bf9-e0d5-407a-9923-7068bc15d058"
      },
      "cell_type": "code",
      "source": [
        "plt.plot(history2.history['acc'])\n",
        "plt.plot(history2.history['val_acc'])\n",
        "plt.title('1D CNN model accuracy')\n",
        "plt.ylabel('accuracy')\n",
        "plt.xlabel('epoch')\n",
        "plt.legend(['train', 'validation'], loc='upper left')\n",
        "plt.show()"
      ],
      "execution_count": 180,
      "outputs": [
        {
          "output_type": "display_data",
          "data": {
            "image/png": "[encoded data removed]",
            "text/plain": [
              "<matplotlib.figure.Figure at 0x7f2aedfc88d0>"
            ]
          },
          "metadata": {
            "tags": []
          }
        }
      ]
    },
    {
      "metadata": {
        "id": "ynjSrb-EiguR",
        "colab_type": "text"
      },
      "cell_type": "markdown",
      "source": [
        "By comparing two models, we can note that the 1D CNN model has a higher accuracy than the RNN model. It is also interesting to see that the decrease in loss is more stable for 1D CNN model."
      ]
    },
    {
      "metadata": {
        "id": "nUJA_QkGxAC4",
        "colab_type": "text"
      },
      "cell_type": "markdown",
      "source": [
        "### **Reference**\n",
        "\n",
        "1. https://blog.keras.io/building-autoencoders-in-keras.html\n",
        "2. Melissa K. (2017). Featureless Deep Learning for Detection of Malicious URLs. https://github.com/incertum/cyber-matrix-ai/tree/master/Malicious-URL-Detection-Deep-Learning\n",
        "\n",
        "Please note that I collaborated this work with Ratnadeep Mitra(rm1773)."
      ]
    }
  ]
}